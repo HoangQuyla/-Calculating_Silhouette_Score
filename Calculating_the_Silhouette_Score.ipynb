{
  "nbformat": 4,
  "nbformat_minor": 0,
  "metadata": {
    "colab": {
      "name": "Calculating the Silhouette Score.ipynb",
      "provenance": [],
      "collapsed_sections": []
    },
    "kernelspec": {
      "name": "python3",
      "display_name": "Python 3"
    },
    "language_info": {
      "name": "python"
    }
  },
  "cells": [
    {
      "cell_type": "code",
      "execution_count": 1,
      "metadata": {
        "colab": {
          "base_uri": "https://localhost:8080/"
        },
        "id": "GsjB7IIQKWm7",
        "outputId": "573af8ba-8bad-41cb-f7c1-c0286caba28f"
      },
      "outputs": [
        {
          "output_type": "stream",
          "name": "stdout",
          "text": [
            "Mounted at /content/drive\n"
          ]
        }
      ],
      "source": [
        "from google.colab import drive\n",
        "drive.mount('/content/drive')"
      ]
    },
    {
      "cell_type": "code",
      "source": [
        "%cd /content/drive/My Drive/Colab Notebooks/"
      ],
      "metadata": {
        "colab": {
          "base_uri": "https://localhost:8080/"
        },
        "id": "Hr6UED8jSS85",
        "outputId": "a01549a6-a321-45d3-d1b6-455ec26e9f4a"
      },
      "execution_count": 2,
      "outputs": [
        {
          "output_type": "stream",
          "name": "stdout",
          "text": [
            "/content/drive/My Drive/Colab Notebooks\n"
          ]
        }
      ]
    },
    {
      "cell_type": "markdown",
      "source": [
        "**Silhouette Score**\n",
        "\n",
        "Understanding the performance of unsupervised learning is more difficult than supervised learning because there is no clear or best solution fo that. \n",
        "\n",
        "For supervised learning, there are many robust performance metrics- the most straightforwad of these being accurate in the form of comparing model-predicted labels to actual labels and see how many the model got correct.\n",
        "\n",
        "\n",
        "For clustering, we do not have labels to depend on and need to bukd an understanding of how different our clusters are. We will use Silhouette Score metric to achive this.\n",
        "\n",
        "\n",
        "The Silhouette metric works by analyzing how well a point fits within its cluster. The metric has a range from -1 to 1 if the average Silhouette Score accorss the clustering is 1 then you willl achived perfect clusters and there will be optimal confusion about which points belongs where."
      ],
      "metadata": {
        "id": "Zyp782-hSmYO"
      }
    },
    {
      "cell_type": "code",
      "source": [
        "import pandas as pd\n",
        "import numpy as np\n",
        "import matplotlib.pyplot as pyplot\n",
        "from sklearn.metrics import silhouette_score\n",
        "from scipy.spatial.distance import cdist\n",
        "iris = pd.read_csv('iris_data.csv', header = None)"
      ],
      "metadata": {
        "id": "K4cN3-oFT6XC"
      },
      "execution_count": 3,
      "outputs": []
    },
    {
      "cell_type": "code",
      "source": [
        "iris.columns = ['SepalLengthCm', 'SepalWidthCm', 'PetalLengthCm',\n",
        "'PetalWidthCm', 'species']"
      ],
      "metadata": {
        "id": "dVpy3-JIUVaq"
      },
      "execution_count": 4,
      "outputs": []
    },
    {
      "cell_type": "code",
      "source": [
        "# We need to seperate X features, since we want to treat this as an unsupervised learning problem\n",
        "X = iris[['SepalLengthCm', 'SepalWidthCm', 'PetalLengthCm',\n",
        "'PetalWidthCm']]"
      ],
      "metadata": {
        "id": "sHagdv9AUkgD"
      },
      "execution_count": 5,
      "outputs": []
    },
    {
      "cell_type": "code",
      "source": [
        "def k_means(X, K):\n",
        "#Keep track of history so you can see k-means in action\n",
        "    centroids_history = []\n",
        "    labels_history = []\n",
        "    rand_index = np.random.choice(X.shape[0], K)  \n",
        "    centroids = X[rand_index]\n",
        "    centroids_history.append(centroids)\n",
        "    while True:\n",
        "# Euclidean distances are calculated for each point relative to centroids, #and then np.argmin returns\n",
        "# the index location of the minimal distance - which cluster a point    is #assigned to\n",
        "        labels = np.argmin(cdist(X, centroids), axis=1)\n",
        "        labels_history.append(labels)\n",
        "#Take mean of points within clusters to find new centroids:\n",
        "        new_centroids = np.array([X[labels == i].mean(axis=0)\n",
        "                                for i in range(K)])\n",
        "        centroids_history.append(new_centroids)\n",
        "        \n",
        "# If old centroids and new centroids no longer change, k-means is complete and end. Otherwise continue\n",
        "        if np.all(centroids == new_centroids):\n",
        "            break\n",
        "        centroids = new_centroids\n",
        "    \n",
        "    return centroids, labels, centroids_history, labels_history"
      ],
      "metadata": {
        "id": "ImAKCCUVU_N_"
      },
      "execution_count": 6,
      "outputs": []
    },
    {
      "cell_type": "code",
      "source": [
        "# Convert our Iris X feature DataFrame to a Numpy matrix\n",
        "X_mat= X.values"
      ],
      "metadata": {
        "id": "K22Nr2uEVIbc"
      },
      "execution_count": 7,
      "outputs": []
    },
    {
      "cell_type": "code",
      "source": [
        "# Run our kmeans function on the iris matrix\n",
        "centroids, labels, centroids_history, labels_history = k_means(X_mat, 3)"
      ],
      "metadata": {
        "id": "nkaiJjckVWU3"
      },
      "execution_count": 8,
      "outputs": []
    },
    {
      "cell_type": "code",
      "source": [
        "# Calculate Silhouette Score\n",
        "silhouette_score(X[['PetalLengthCm', 'PetalWidthCm']], labels)"
      ],
      "metadata": {
        "colab": {
          "base_uri": "https://localhost:8080/"
        },
        "id": "xYg2GuNSVlGd",
        "outputId": "ad56c563-de4f-4ab0-b010-090625bf0e1f"
      },
      "execution_count": 9,
      "outputs": [
        {
          "output_type": "execute_result",
          "data": {
            "text/plain": [
              "0.6214938502379446"
            ]
          },
          "metadata": {},
          "execution_count": 9
        }
      ]
    }
  ]
}